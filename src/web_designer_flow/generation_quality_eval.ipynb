{
 "cells": [
  {
   "cell_type": "markdown",
   "metadata": {},
   "source": [
    "# Evaluating generation quality performance metrics of the flow"
   ]
  },
  {
   "cell_type": "code",
   "execution_count": 1,
   "metadata": {},
   "outputs": [],
   "source": [
    "# Configuring Azure OpenAI service connection\n",
    "\n",
    "import os\n",
    "from dotenv import load_dotenv\n",
    "load_dotenv()\n",
    "from promptflow.core import AzureOpenAIModelConfiguration\n",
    "\n",
    "# Initialize Azure OpenAI Connection\n",
    "model_config = AzureOpenAIModelConfiguration(\n",
    "        azure_deployment=\"gpt-4\",\n",
    "        api_version=os.environ[\"AZURE_OPENAI_API_VERSION\"],\n",
    "        azure_endpoint=os.environ[\"AZURE_OPENAI_ENDPOINT\"],\n",
    "        api_key=os.environ[\"AZURE_OPENAI_KEY\"]\n",
    "    )"
   ]
  },
  {
   "cell_type": "code",
   "execution_count": 2,
   "metadata": {},
   "outputs": [
    {
     "data": {
      "text/html": [
       "<div>\n",
       "<style scoped>\n",
       "    .dataframe tbody tr th:only-of-type {\n",
       "        vertical-align: middle;\n",
       "    }\n",
       "\n",
       "    .dataframe tbody tr th {\n",
       "        vertical-align: top;\n",
       "    }\n",
       "\n",
       "    .dataframe thead th {\n",
       "        text-align: right;\n",
       "    }\n",
       "</style>\n",
       "<table border=\"1\" class=\"dataframe\">\n",
       "  <thead>\n",
       "    <tr style=\"text-align: right;\">\n",
       "      <th></th>\n",
       "      <th>question</th>\n",
       "    </tr>\n",
       "  </thead>\n",
       "  <tbody>\n",
       "    <tr>\n",
       "      <th>0</th>\n",
       "      <td>Create the website copy for the tents catalog ...</td>\n",
       "    </tr>\n",
       "    <tr>\n",
       "      <th>1</th>\n",
       "      <td>Create the textual assets for the sleeping bag...</td>\n",
       "    </tr>\n",
       "    <tr>\n",
       "      <th>2</th>\n",
       "      <td>Draft the website copy for the hiking shoes we...</td>\n",
       "    </tr>\n",
       "  </tbody>\n",
       "</table>\n",
       "</div>"
      ],
      "text/plain": [
       "                                            question\n",
       "0  Create the website copy for the tents catalog ...\n",
       "1  Create the textual assets for the sleeping bag...\n",
       "2  Draft the website copy for the hiking shoes we..."
      ]
     },
     "execution_count": 2,
     "metadata": {},
     "output_type": "execute_result"
    }
   ],
   "source": [
    "# Uploading test dataset\n",
    "import pandas as pd\n",
    "\n",
    "data_path = \"../data/test_dataset.jsonl\"\n",
    "\n",
    "df = pd.read_json(data_path, lines=True)\n",
    "df.head()"
   ]
  },
  {
   "cell_type": "code",
   "execution_count": 3,
   "metadata": {},
   "outputs": [],
   "source": [
    "# Importing class evaluators \n",
    "\n",
    "from create_website_copy_request import get_response\n",
    "from promptflow.evals.evaluators import RelevanceEvaluator, GroundednessEvaluator, FluencyEvaluator, CoherenceEvaluator\n",
    "\n",
    "relevance_evaluator = RelevanceEvaluator(model_config)\n",
    "groundedness_evaluator = GroundednessEvaluator(model_config)\n",
    "fluency_evaluator = FluencyEvaluator(model_config)\n",
    "coherence_evaluator = CoherenceEvaluator(model_config)"
   ]
  },
  {
   "cell_type": "code",
   "execution_count": 4,
   "metadata": {},
   "outputs": [
    {
     "name": "stdout",
     "output_type": "stream",
     "text": [
      "20240827143153_chat_evaluation_sdk\n"
     ]
    }
   ],
   "source": [
    "# Create unique id for each run with date and time\n",
    "from datetime import datetime\n",
    "run_id = datetime.now().strftime(\"%Y%m%d%H%M%S\")\n",
    "run_id = f\"{run_id}_chat_evaluation_sdk\"    \n",
    "print(run_id)"
   ]
  },
  {
   "cell_type": "code",
   "execution_count": 5,
   "metadata": {},
   "outputs": [
    {
     "name": "stderr",
     "output_type": "stream",
     "text": [
      "[2024-08-27 14:31:56 +0000][promptflow][WARNING] - Found existing /workspaces/aitour-concept-to-creation-ai-studio-brk441/src/web_designer_flow/flow.flex.yaml, will not respect it in runtime.\n"
     ]
    },
    {
     "name": "stdout",
     "output_type": "stream",
     "text": [
      "Starting prompt flow service...\n",
      "Start prompt flow service on port 23334, version: 1.11.0.\n",
      "You can stop the prompt flow service with the following command:'\u001b[1mpf service stop\u001b[0m'.\n",
      "Alternatively, if no requests are made within 1 hours, it will automatically stop.\n",
      "You can view the traces in local from http://127.0.0.1:23334/v1.0/ui/traces/?#run=web_designer_flow_20240827_143156_450699\n"
     ]
    },
    {
     "name": "stderr",
     "output_type": "stream",
     "text": [
      "[2024-08-27 14:32:00 +0000][promptflow._sdk._orchestrator.run_submitter][INFO] - Submitting run web_designer_flow_20240827_143156_450699, log path: /home/vscode/.promptflow/.runs/web_designer_flow_20240827_143156_450699/logs.txt\n"
     ]
    },
    {
     "name": "stdout",
     "output_type": "stream",
     "text": [
      "2024-08-27 14:32:10 +0000   50246 execution.bulk     INFO     Process 50267 terminated.\n",
      "2024-08-27 14:32:10 +0000   50246 execution.bulk     WARNING  Process 50275 had been terminated.\n",
      "2024-08-27 14:32:10 +0000   50246 execution.bulk     WARNING  Process 50280 had been terminated.\n",
      "2024-08-27 14:32:00 +0000   50063 execution.bulk     INFO     Current thread is not main thread, skip signal handler registration in BatchEngine.\n",
      "2024-08-27 14:32:00 +0000   50063 execution          WARNING  Starting run without column mapping may lead to unexpected results. Please consult the following documentation for more information: https://aka.ms/pf/column-mapping\n",
      "2024-08-27 14:32:00 +0000   50063 execution.bulk     INFO     Set process count to 3 by taking the minimum value among the factors of {'default_worker_count': 4, 'row_count': 3}.\n",
      "2024-08-27 14:32:02 +0000   50063 execution.bulk     INFO     Process name(ForkProcess-4:2)-Process id(50275)-Line number(1) start execution.\n",
      "2024-08-27 14:32:02 +0000   50063 execution.bulk     INFO     Process name(ForkProcess-4:3)-Process id(50280)-Line number(2) start execution.\n",
      "2024-08-27 14:32:02 +0000   50063 execution.bulk     INFO     Process name(ForkProcess-4:1)-Process id(50267)-Line number(0) start execution.\n",
      "2024-08-27 14:32:06 +0000   50063 execution.bulk     INFO     Process name(ForkProcess-4:3)-Process id(50280)-Line number(2) completed.\n",
      "2024-08-27 14:32:07 +0000   50063 execution.bulk     INFO     Process name(ForkProcess-4:2)-Process id(50275)-Line number(1) completed.\n",
      "2024-08-27 14:32:07 +0000   50063 execution.bulk     INFO     Finished 2 / 3 lines.\n",
      "2024-08-27 14:32:07 +0000   50063 execution.bulk     INFO     Average execution time for completed lines: 3.5 seconds. Estimated time for incomplete lines: 3.5 seconds.\n",
      "2024-08-27 14:32:09 +0000   50063 execution.bulk     INFO     Process name(ForkProcess-4:1)-Process id(50267)-Line number(0) completed.\n",
      "2024-08-27 14:32:09 +0000   50063 execution.bulk     INFO     Finished 3 / 3 lines.\n",
      "2024-08-27 14:32:09 +0000   50063 execution.bulk     INFO     Average execution time for completed lines: 3.0 seconds. Estimated time for incomplete lines: 0.0 seconds.\n",
      "2024-08-27 14:32:09 +0000   50063 execution.bulk     INFO     The thread monitoring the process [50280-ForkProcess-4:3] will be terminated.\n",
      "2024-08-27 14:32:09 +0000   50063 execution.bulk     INFO     The thread monitoring the process [50275-ForkProcess-4:2] will be terminated.\n",
      "2024-08-27 14:32:09 +0000   50063 execution.bulk     INFO     The thread monitoring the process [50267-ForkProcess-4:1] will be terminated.\n",
      "2024-08-27 14:32:09 +0000   50280 execution.bulk     INFO     The process [50280] has received a terminate signal.\n",
      "2024-08-27 14:32:09 +0000   50275 execution.bulk     INFO     The process [50275] has received a terminate signal.\n",
      "2024-08-27 14:32:09 +0000   50267 execution.bulk     INFO     The process [50267] has received a terminate signal.\n",
      "======= Run Summary =======\n",
      "\n",
      "Run name: \"web_designer_flow_20240827_143156_450699\"\n",
      "Run status: \"Completed\"\n",
      "Start time: \"2024-08-27 14:31:56.450087\"\n",
      "Duration: \"0:00:14.282150\"\n",
      "Output path: \"/home/vscode/.promptflow/.runs/web_designer_flow_20240827_143156_450699\"\n",
      "\n"
     ]
    },
    {
     "name": "stderr",
     "output_type": "stream",
     "text": [
      "[2024-08-27 14:32:12 +0000][promptflow.core._prompty_utils][ERROR] - Exception occurs: RateLimitError: Error code: 429 - {'error': {'code': '429', 'message': 'Requests to the Chatcompletions_Create Operation under Azure OpenAI API version 2023-03-15-preview have exceeded call rate limit of your current AIServices S0 pricing tier. Please retry after 9 seconds. Please contact Azure support service if you would like to further increase the default rate limit.'}}\n",
      "[2024-08-27 14:32:12 +0000][promptflow.core._prompty_utils][WARNING] - RateLimitError #0, Retry-After=9, Back off 9.0 seconds for retry.\n",
      "[2024-08-27 14:32:12 +0000][promptflow.core._prompty_utils][ERROR] - Exception occurs: RateLimitError: Error code: 429 - {'error': {'code': '429', 'message': 'Requests to the Chatcompletions_Create Operation under Azure OpenAI API version 2023-03-15-preview have exceeded call rate limit of your current AIServices S0 pricing tier. Please retry after 9 seconds. Please contact Azure support service if you would like to further increase the default rate limit.'}}\n",
      "[2024-08-27 14:32:12 +0000][promptflow.core._prompty_utils][WARNING] - RateLimitError #0, Retry-After=9, Back off 9.0 seconds for retry.\n",
      "[2024-08-27 14:32:14 +0000][promptflow.core._prompty_utils][ERROR] - Exception occurs: RateLimitError: Error code: 429 - {'error': {'code': '429', 'message': 'Requests to the Chatcompletions_Create Operation under Azure OpenAI API version 2023-03-15-preview have exceeded call rate limit of your current AIServices S0 pricing tier. Please retry after 7 seconds. Please contact Azure support service if you would like to further increase the default rate limit.'}}\n",
      "[2024-08-27 14:32:14 +0000][promptflow.core._prompty_utils][WARNING] - RateLimitError #0, Retry-After=7, Back off 7.0 seconds for retry.\n",
      "[2024-08-27 14:32:14 +0000][promptflow.core._prompty_utils][ERROR] - Exception occurs: RateLimitError: Error code: 429 - {'error': {'code': '429', 'message': 'Requests to the Chatcompletions_Create Operation under Azure OpenAI API version 2023-03-15-preview have exceeded call rate limit of your current AIServices S0 pricing tier. Please retry after 7 seconds. Please contact Azure support service if you would like to further increase the default rate limit.'}}\n",
      "[2024-08-27 14:32:14 +0000][promptflow.core._prompty_utils][WARNING] - RateLimitError #0, Retry-After=7, Back off 7.0 seconds for retry.\n"
     ]
    }
   ],
   "source": [
    "# Step 1: Run web_designer_flow against test dataset\n",
    "# Step 2: Evaluate prompt flow outputs (answer and context) against generation quality metrics\n",
    "from promptflow.evals.evaluate import evaluate\n",
    "\n",
    "result_eval = evaluate(\n",
    "    evaluation_name=run_id,\n",
    "    data=data_path,\n",
    "    target=get_response,\n",
    "    evaluators={\n",
    "        \"relevance\": relevance_evaluator,\n",
    "        \"fluency\": fluency_evaluator,\n",
    "        \"coherence\": coherence_evaluator,\n",
    "        \"groundedness\": groundedness_evaluator,\n",
    "    },\n",
    "    # column mapping    return {\"question\": question, \"answer\": result, \"context\": context}\n",
    "    evaluator_config={\n",
    "        \"defaultS\": {\n",
    "            \"question\": \"${data.question}\",\n",
    "            \"answer\": \"${target.answer}\",\n",
    "            \"context\": \"${target.context}\",\n",
    "        },\n",
    "    },\n",
    ")"
   ]
  },
  {
   "cell_type": "code",
   "execution_count": 6,
   "metadata": {},
   "outputs": [
    {
     "data": {
      "text/html": [
       "<div>\n",
       "<style scoped>\n",
       "    .dataframe tbody tr th:only-of-type {\n",
       "        vertical-align: middle;\n",
       "    }\n",
       "\n",
       "    .dataframe tbody tr th {\n",
       "        vertical-align: top;\n",
       "    }\n",
       "\n",
       "    .dataframe thead th {\n",
       "        text-align: right;\n",
       "    }\n",
       "</style>\n",
       "<table border=\"1\" class=\"dataframe\">\n",
       "  <thead>\n",
       "    <tr style=\"text-align: right;\">\n",
       "      <th></th>\n",
       "      <th>outputs.answer</th>\n",
       "      <th>outputs.context</th>\n",
       "      <th>inputs.question</th>\n",
       "      <th>outputs.relevance.gpt_relevance</th>\n",
       "      <th>outputs.fluency.gpt_fluency</th>\n",
       "      <th>outputs.coherence.gpt_coherence</th>\n",
       "      <th>outputs.groundedness.gpt_groundedness</th>\n",
       "    </tr>\n",
       "  </thead>\n",
       "  <tbody>\n",
       "    <tr>\n",
       "      <th>0</th>\n",
       "      <td># Tents Catalog\\n\\n## Discover Your Perfect Ou...</td>\n",
       "      <td>[{'id': 'cHJvZHVjdHMuY3N2Mg==', 'title': '', '...</td>\n",
       "      <td>Create the website copy for the tents catalog ...</td>\n",
       "      <td>5.0</td>\n",
       "      <td>5.0</td>\n",
       "      <td>5.0</td>\n",
       "      <td>5.0</td>\n",
       "    </tr>\n",
       "    <tr>\n",
       "      <th>1</th>\n",
       "      <td>### CozyNights Sleeping Bag\\n\\n**Embrace the G...</td>\n",
       "      <td>[{'id': 'cHJvZHVjdHMuY3N2MQ==', 'title': '', '...</td>\n",
       "      <td>Create the textual assets for the sleeping bag...</td>\n",
       "      <td>5.0</td>\n",
       "      <td>5.0</td>\n",
       "      <td>5.0</td>\n",
       "      <td>5.0</td>\n",
       "    </tr>\n",
       "    <tr>\n",
       "      <th>2</th>\n",
       "      <td>### TrekReady TrailWalker Hiking Shoes\\n\\n####...</td>\n",
       "      <td>[{'id': 'cHJvZHVjdHMuY3N2Mg==', 'title': '', '...</td>\n",
       "      <td>Draft the website copy for the hiking shoes we...</td>\n",
       "      <td>5.0</td>\n",
       "      <td>5.0</td>\n",
       "      <td>5.0</td>\n",
       "      <td>5.0</td>\n",
       "    </tr>\n",
       "  </tbody>\n",
       "</table>\n",
       "</div>"
      ],
      "text/plain": [
       "                                      outputs.answer  \\\n",
       "0  # Tents Catalog\\n\\n## Discover Your Perfect Ou...   \n",
       "1  ### CozyNights Sleeping Bag\\n\\n**Embrace the G...   \n",
       "2  ### TrekReady TrailWalker Hiking Shoes\\n\\n####...   \n",
       "\n",
       "                                     outputs.context  \\\n",
       "0  [{'id': 'cHJvZHVjdHMuY3N2Mg==', 'title': '', '...   \n",
       "1  [{'id': 'cHJvZHVjdHMuY3N2MQ==', 'title': '', '...   \n",
       "2  [{'id': 'cHJvZHVjdHMuY3N2Mg==', 'title': '', '...   \n",
       "\n",
       "                                     inputs.question  \\\n",
       "0  Create the website copy for the tents catalog ...   \n",
       "1  Create the textual assets for the sleeping bag...   \n",
       "2  Draft the website copy for the hiking shoes we...   \n",
       "\n",
       "   outputs.relevance.gpt_relevance  outputs.fluency.gpt_fluency  \\\n",
       "0                              5.0                          5.0   \n",
       "1                              5.0                          5.0   \n",
       "2                              5.0                          5.0   \n",
       "\n",
       "   outputs.coherence.gpt_coherence  outputs.groundedness.gpt_groundedness  \n",
       "0                              5.0                                    5.0  \n",
       "1                              5.0                                    5.0  \n",
       "2                              5.0                                    5.0  "
      ]
     },
     "execution_count": 6,
     "metadata": {},
     "output_type": "execute_result"
    }
   ],
   "source": [
    "# Showing results\n",
    "eval_result = pd.DataFrame(result_eval[\"rows\"])\n",
    "eval_result.head()"
   ]
  },
  {
   "cell_type": "code",
   "execution_count": 7,
   "metadata": {},
   "outputs": [],
   "source": [
    "#save evaluation results to a JSONL file\n",
    "eval_result.to_json('eval_result.jsonl', orient='records', lines=True)"
   ]
  }
 ],
 "metadata": {
  "kernelspec": {
   "display_name": "Python 3",
   "language": "python",
   "name": "python3"
  },
  "language_info": {
   "codemirror_mode": {
    "name": "ipython",
    "version": 3
   },
   "file_extension": ".py",
   "mimetype": "text/x-python",
   "name": "python",
   "nbconvert_exporter": "python",
   "pygments_lexer": "ipython3",
   "version": "3.11.9"
  }
 },
 "nbformat": 4,
 "nbformat_minor": 2
}
