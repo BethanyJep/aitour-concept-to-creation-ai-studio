{
 "cells": [
  {
   "cell_type": "markdown",
   "metadata": {},
   "source": [
    "# Evaluating generation quality performance metrics of the flow"
   ]
  },
  {
   "cell_type": "code",
   "execution_count": 7,
   "metadata": {},
   "outputs": [],
   "source": [
    "# Configuring Azure OpenAI service connection\n",
    "\n",
    "import os\n",
    "from dotenv import load_dotenv\n",
    "load_dotenv()\n",
    "from promptflow.core import AzureOpenAIModelConfiguration\n",
    "\n",
    "# Initialize Azure OpenAI Connection\n",
    "model_config = AzureOpenAIModelConfiguration(\n",
    "        azure_deployment=\"gpt-4\",\n",
    "        api_version=os.environ[\"AZURE_OPENAI_API_VERSION\"],\n",
    "        azure_endpoint=os.environ[\"AZURE_OPENAI_ENDPOINT\"],\n",
    "        api_key=os.environ[\"AZURE_OPENAI_KEY\"]\n",
    "    )"
   ]
  },
  {
   "cell_type": "code",
   "execution_count": 8,
   "metadata": {},
   "outputs": [
    {
     "data": {
      "text/html": [
       "<div>\n",
       "<style scoped>\n",
       "    .dataframe tbody tr th:only-of-type {\n",
       "        vertical-align: middle;\n",
       "    }\n",
       "\n",
       "    .dataframe tbody tr th {\n",
       "        vertical-align: top;\n",
       "    }\n",
       "\n",
       "    .dataframe thead th {\n",
       "        text-align: right;\n",
       "    }\n",
       "</style>\n",
       "<table border=\"1\" class=\"dataframe\">\n",
       "  <thead>\n",
       "    <tr style=\"text-align: right;\">\n",
       "      <th></th>\n",
       "      <th>question</th>\n",
       "    </tr>\n",
       "  </thead>\n",
       "  <tbody>\n",
       "    <tr>\n",
       "      <th>0</th>\n",
       "      <td>Create the website copy for the tents catalog ...</td>\n",
       "    </tr>\n",
       "    <tr>\n",
       "      <th>1</th>\n",
       "      <td>Create the textual assets for the sleeping bag...</td>\n",
       "    </tr>\n",
       "    <tr>\n",
       "      <th>2</th>\n",
       "      <td>Draft the website copy for the hiking shoes we...</td>\n",
       "    </tr>\n",
       "  </tbody>\n",
       "</table>\n",
       "</div>"
      ],
      "text/plain": [
       "                                            question\n",
       "0  Create the website copy for the tents catalog ...\n",
       "1  Create the textual assets for the sleeping bag...\n",
       "2  Draft the website copy for the hiking shoes we..."
      ]
     },
     "execution_count": 8,
     "metadata": {},
     "output_type": "execute_result"
    }
   ],
   "source": [
    "# Uploading test dataset\n",
    "import pandas as pd\n",
    "\n",
    "data_path = \"../data/test_dataset.jsonl\"\n",
    "\n",
    "df = pd.read_json(data_path, lines=True)\n",
    "df.head()"
   ]
  },
  {
   "cell_type": "code",
   "execution_count": 9,
   "metadata": {},
   "outputs": [],
   "source": [
    "# Importing class evaluators \n",
    "\n",
    "from create_website_copy_request import get_response\n",
    "from promptflow.evals.evaluators import RelevanceEvaluator, GroundednessEvaluator, FluencyEvaluator, CoherenceEvaluator\n",
    "\n",
    "relevance_evaluator = RelevanceEvaluator(model_config)\n",
    "groundedness_evaluator = GroundednessEvaluator(model_config)\n",
    "fluency_evaluator = FluencyEvaluator(model_config)\n",
    "coherence_evaluator = CoherenceEvaluator(model_config)"
   ]
  },
  {
   "cell_type": "code",
   "execution_count": 10,
   "metadata": {},
   "outputs": [
    {
     "name": "stdout",
     "output_type": "stream",
     "text": [
      "20240826163232_chat_evaluation_sdk\n"
     ]
    }
   ],
   "source": [
    "# Create unique id for each run with date and time\n",
    "from datetime import datetime\n",
    "run_id = datetime.now().strftime(\"%Y%m%d%H%M%S\")\n",
    "run_id = f\"{run_id}_chat_evaluation_sdk\"    \n",
    "print(run_id)"
   ]
  },
  {
   "cell_type": "code",
   "execution_count": 11,
   "metadata": {},
   "outputs": [
    {
     "name": "stderr",
     "output_type": "stream",
     "text": [
      "[2024-08-26 16:32:32 +0000][promptflow][WARNING] - Found existing /workspaces/aitour-concept-to-creation-ai-studio/src/web_designer_flex_flow/flow.flex.yaml, will not respect it in runtime.\n"
     ]
    },
    {
     "name": "stdout",
     "output_type": "stream",
     "text": [
      "Prompt flow service has started...\n",
      "You can view the traces in local from http://127.0.0.1:23334/v1.0/ui/traces/?#run=web_designer_flex_flow_20240826_163232_875744\n"
     ]
    },
    {
     "name": "stderr",
     "output_type": "stream",
     "text": [
      "[2024-08-26 16:32:32 +0000][promptflow._sdk._orchestrator.run_submitter][INFO] - Submitting run web_designer_flex_flow_20240826_163232_875744, log path: /home/vscode/.promptflow/.runs/web_designer_flex_flow_20240826_163232_875744/logs.txt\n",
      "[2024-08-26 16:32:35 +0000][promptflow.core._prompty_utils][ERROR] - Exception occurs: RateLimitError: Error code: 429 - {'error': {'code': '429', 'message': 'Requests to the Chatcompletions_Create Operation under Azure OpenAI API version 2023-03-15-preview have exceeded token rate limit of your current AIServices S0 pricing tier. Please retry after 10 seconds. Please contact Azure support service if you would like to further increase the default rate limit.'}}\n",
      "[2024-08-26 16:32:35 +0000][promptflow.core._prompty_utils][WARNING] - RateLimitError #0, Retry-After=10, Back off 10.0 seconds for retry.\n",
      "[2024-08-26 16:32:35 +0000][promptflow.core._prompty_utils][ERROR] - Exception occurs: RateLimitError: Error code: 429 - {'error': {'code': '429', 'message': 'Requests to the Chatcompletions_Create Operation under Azure OpenAI API version 2023-03-15-preview have exceeded token rate limit of your current AIServices S0 pricing tier. Please retry after 10 seconds. Please contact Azure support service if you would like to further increase the default rate limit.'}}\n",
      "[2024-08-26 16:32:35 +0000][promptflow.core._prompty_utils][WARNING] - RateLimitError #0, Retry-After=10, Back off 10.0 seconds for retry.\n",
      "[2024-08-26 16:32:35 +0000][promptflow.core._prompty_utils][ERROR] - Exception occurs: RateLimitError: Error code: 429 - {'error': {'code': '429', 'message': 'Requests to the Chatcompletions_Create Operation under Azure OpenAI API version 2023-03-15-preview have exceeded token rate limit of your current AIServices S0 pricing tier. Please retry after 10 seconds. Please contact Azure support service if you would like to further increase the default rate limit.'}}\n",
      "[2024-08-26 16:32:35 +0000][promptflow.core._prompty_utils][WARNING] - RateLimitError #0, Retry-After=10, Back off 10.0 seconds for retry.\n",
      "[2024-08-26 16:32:46 +0000][promptflow.core._prompty_utils][ERROR] - Exception occurs: RateLimitError: Error code: 429 - {'error': {'code': '429', 'message': 'Requests to the Chatcompletions_Create Operation under Azure OpenAI API version 2023-03-15-preview have exceeded token rate limit of your current AIServices S0 pricing tier. Please retry after 60 seconds. Please contact Azure support service if you would like to further increase the default rate limit.'}}\n",
      "[2024-08-26 16:32:46 +0000][promptflow.core._prompty_utils][WARNING] - RateLimitError #1, Retry-After=60, Back off 60.0 seconds for retry.\n"
     ]
    },
    {
     "name": "stdout",
     "output_type": "stream",
     "text": [
      "2024-08-26 16:33:54 +0000   89637 execution.bulk     INFO     Process 89681 terminated.\n",
      "2024-08-26 16:33:54 +0000   89637 execution.bulk     WARNING  Process 89682 had been terminated.\n",
      "2024-08-26 16:33:54 +0000   89637 execution.bulk     INFO     Process 89670 terminated.\n",
      "2024-08-26 16:32:33 +0000   80823 execution.bulk     INFO     Current thread is not main thread, skip signal handler registration in BatchEngine.\n",
      "2024-08-26 16:32:33 +0000   80823 execution          WARNING  Starting run without column mapping may lead to unexpected results. Please consult the following documentation for more information: https://aka.ms/pf/column-mapping\n",
      "2024-08-26 16:32:33 +0000   80823 execution.bulk     INFO     Set process count to 3 by taking the minimum value among the factors of {'default_worker_count': 4, 'row_count': 3}.\n",
      "2024-08-26 16:32:35 +0000   80823 execution.bulk     INFO     Process name(ForkProcess-8:3)-Process id(89682)-Line number(1) start execution.\n",
      "2024-08-26 16:32:35 +0000   80823 execution.bulk     INFO     Process name(ForkProcess-8:2)-Process id(89681)-Line number(2) start execution.\n",
      "2024-08-26 16:32:35 +0000   80823 execution.bulk     INFO     Process name(ForkProcess-8:1)-Process id(89670)-Line number(0) start execution.\n",
      "2024-08-26 16:32:50 +0000   80823 execution.bulk     INFO     Process name(ForkProcess-8:2)-Process id(89681)-Line number(2) completed.\n",
      "2024-08-26 16:32:51 +0000   80823 execution.bulk     INFO     Finished 1 / 3 lines.\n",
      "2024-08-26 16:32:51 +0000   80823 execution.bulk     INFO     Average execution time for completed lines: 18.02 seconds. Estimated time for incomplete lines: 36.04 seconds.\n",
      "2024-08-26 16:32:54 +0000   80823 execution.bulk     INFO     Process name(ForkProcess-8:3)-Process id(89682)-Line number(1) completed.\n",
      "2024-08-26 16:32:55 +0000   80823 execution.bulk     INFO     Finished 2 / 3 lines.\n",
      "2024-08-26 16:32:55 +0000   80823 execution.bulk     INFO     Average execution time for completed lines: 11.01 seconds. Estimated time for incomplete lines: 11.01 seconds.\n",
      "2024-08-26 16:33:33 +0000   80823 execution.bulk     INFO     [Process Pool] [Active processes: 3 / 3]\n",
      "2024-08-26 16:33:33 +0000   80823 execution.bulk     INFO     [Lines] [Finished: 2] [Processing: 1] [Pending: 0]\n",
      "2024-08-26 16:33:33 +0000   80823 execution.bulk     INFO     Processing Lines: line 0 (Process name(ForkProcess-8:1)-Process id(89670)-Line number(0)).\n",
      "2024-08-26 16:33:54 +0000   80823 execution.bulk     INFO     Process name(ForkProcess-8:1)-Process id(89670)-Line number(0) completed.\n",
      "2024-08-26 16:33:54 +0000   80823 execution.bulk     INFO     Finished 3 / 3 lines.\n",
      "2024-08-26 16:33:54 +0000   80823 execution.bulk     INFO     Average execution time for completed lines: 27.03 seconds. Estimated time for incomplete lines: 0.0 seconds.\n",
      "2024-08-26 16:33:54 +0000   80823 execution.bulk     INFO     The thread monitoring the process [89682-ForkProcess-8:3] will be terminated.\n",
      "2024-08-26 16:33:54 +0000   80823 execution.bulk     INFO     The thread monitoring the process [89681-ForkProcess-8:2] will be terminated.\n",
      "2024-08-26 16:33:54 +0000   89682 execution.bulk     INFO     The process [89682] has received a terminate signal.\n",
      "2024-08-26 16:33:54 +0000   80823 execution.bulk     INFO     The thread monitoring the process [89670-ForkProcess-8:1] will be terminated.\n",
      "2024-08-26 16:33:54 +0000   89681 execution.bulk     INFO     The process [89681] has received a terminate signal.\n",
      "2024-08-26 16:33:54 +0000   89670 execution.bulk     INFO     The process [89670] has received a terminate signal.\n",
      "======= Run Summary =======\n",
      "\n",
      "Run name: \"web_designer_flex_flow_20240826_163232_875744\"\n",
      "Run status: \"Completed\"\n",
      "Start time: \"2024-08-26 16:32:32.874845\"\n",
      "Duration: \"0:01:22.321593\"\n",
      "Output path: \"/home/vscode/.promptflow/.runs/web_designer_flex_flow_20240826_163232_875744\"\n",
      "\n"
     ]
    },
    {
     "name": "stderr",
     "output_type": "stream",
     "text": [
      "[2024-08-26 16:33:57 +0000][promptflow.core._prompty_utils][ERROR] - Exception occurs: RateLimitError: Error code: 429 - {'error': {'code': '429', 'message': 'Requests to the Chatcompletions_Create Operation under Azure OpenAI API version 2023-03-15-preview have exceeded call rate limit of your current AIServices S0 pricing tier. Please retry after 9 seconds. Please contact Azure support service if you would like to further increase the default rate limit.'}}\n",
      "[2024-08-26 16:33:57 +0000][promptflow.core._prompty_utils][WARNING] - RateLimitError #0, Retry-After=9, Back off 9.0 seconds for retry.\n",
      "[2024-08-26 16:33:57 +0000][promptflow.core._prompty_utils][ERROR] - Exception occurs: RateLimitError: Error code: 429 - {'error': {'code': '429', 'message': 'Requests to the Chatcompletions_Create Operation under Azure OpenAI API version 2023-03-15-preview have exceeded call rate limit of your current AIServices S0 pricing tier. Please retry after 8 seconds. Please contact Azure support service if you would like to further increase the default rate limit.'}}\n",
      "[2024-08-26 16:33:57 +0000][promptflow.core._prompty_utils][WARNING] - RateLimitError #0, Retry-After=8, Back off 8.0 seconds for retry.\n",
      "[2024-08-26 16:33:57 +0000][promptflow.core._prompty_utils][ERROR] - Exception occurs: RateLimitError: Error code: 429 - {'error': {'code': '429', 'message': 'Requests to the Chatcompletions_Create Operation under Azure OpenAI API version 2023-03-15-preview have exceeded call rate limit of your current AIServices S0 pricing tier. Please retry after 8 seconds. Please contact Azure support service if you would like to further increase the default rate limit.'}}\n",
      "[2024-08-26 16:33:57 +0000][promptflow.core._prompty_utils][WARNING] - RateLimitError #0, Retry-After=8, Back off 8.0 seconds for retry.\n",
      "[2024-08-26 16:33:58 +0000][promptflow.core._prompty_utils][ERROR] - Exception occurs: RateLimitError: Error code: 429 - {'error': {'code': '429', 'message': 'Requests to the Chatcompletions_Create Operation under Azure OpenAI API version 2023-03-15-preview have exceeded call rate limit of your current AIServices S0 pricing tier. Please retry after 7 seconds. Please contact Azure support service if you would like to further increase the default rate limit.'}}\n",
      "[2024-08-26 16:33:58 +0000][promptflow.core._prompty_utils][WARNING] - RateLimitError #0, Retry-After=7, Back off 7.0 seconds for retry.\n"
     ]
    }
   ],
   "source": [
    "# Step 1: Run web_designer_flow against test dataset\n",
    "# Step 2: Evaluate prompt flow outputs (answer and context) against generation quality metrics\n",
    "from promptflow.evals.evaluate import evaluate\n",
    "\n",
    "result_eval = evaluate(\n",
    "    evaluation_name=run_id,\n",
    "    data=data_path,\n",
    "    target=get_response,\n",
    "    evaluators={\n",
    "        \"relevance\": relevance_evaluator,\n",
    "        \"fluency\": fluency_evaluator,\n",
    "        \"coherence\": coherence_evaluator,\n",
    "        \"groundedness\": groundedness_evaluator,\n",
    "    },\n",
    "    # column mapping    return {\"question\": question, \"answer\": result, \"context\": context}\n",
    "    evaluator_config={\n",
    "        \"defaultS\": {\n",
    "            \"question\": \"${data.question}\",\n",
    "            \"answer\": \"${target.answer}\",\n",
    "            \"context\": \"${target.context}\",\n",
    "        },\n",
    "    },\n",
    ")"
   ]
  },
  {
   "cell_type": "code",
   "execution_count": 12,
   "metadata": {},
   "outputs": [
    {
     "data": {
      "text/html": [
       "<div>\n",
       "<style scoped>\n",
       "    .dataframe tbody tr th:only-of-type {\n",
       "        vertical-align: middle;\n",
       "    }\n",
       "\n",
       "    .dataframe tbody tr th {\n",
       "        vertical-align: top;\n",
       "    }\n",
       "\n",
       "    .dataframe thead th {\n",
       "        text-align: right;\n",
       "    }\n",
       "</style>\n",
       "<table border=\"1\" class=\"dataframe\">\n",
       "  <thead>\n",
       "    <tr style=\"text-align: right;\">\n",
       "      <th></th>\n",
       "      <th>outputs.answer</th>\n",
       "      <th>outputs.context</th>\n",
       "      <th>inputs.question</th>\n",
       "      <th>outputs.relevance.gpt_relevance</th>\n",
       "      <th>outputs.fluency.gpt_fluency</th>\n",
       "      <th>outputs.coherence.gpt_coherence</th>\n",
       "      <th>outputs.groundedness.gpt_groundedness</th>\n",
       "    </tr>\n",
       "  </thead>\n",
       "  <tbody>\n",
       "    <tr>\n",
       "      <th>0</th>\n",
       "      <td># Tents Catalog\\n\\n## Discover Your Perfect Ou...</td>\n",
       "      <td>[{'id': 'cHJvZHVjdHMuY3N2Mg==', 'title': '', '...</td>\n",
       "      <td>Create the website copy for the tents catalog ...</td>\n",
       "      <td>5.0</td>\n",
       "      <td>5.0</td>\n",
       "      <td>5.0</td>\n",
       "      <td>1.0</td>\n",
       "    </tr>\n",
       "    <tr>\n",
       "      <th>1</th>\n",
       "      <td>### MountainDream Sleeping Bag\\n\\n#### Product...</td>\n",
       "      <td>[{'id': 'cHJvZHVjdHMuY3N2Mg==', 'title': '', '...</td>\n",
       "      <td>Create the textual assets for the sleeping bag...</td>\n",
       "      <td>5.0</td>\n",
       "      <td>5.0</td>\n",
       "      <td>5.0</td>\n",
       "      <td>5.0</td>\n",
       "    </tr>\n",
       "    <tr>\n",
       "      <th>2</th>\n",
       "      <td>### TrekReady TrailWalker Hiking Shoes\\n\\n**Ad...</td>\n",
       "      <td>[{'id': 'cHJvZHVjdHMuY3N2Mg==', 'title': '', '...</td>\n",
       "      <td>Draft the website copy for the hiking shoes we...</td>\n",
       "      <td>5.0</td>\n",
       "      <td>5.0</td>\n",
       "      <td>5.0</td>\n",
       "      <td>5.0</td>\n",
       "    </tr>\n",
       "  </tbody>\n",
       "</table>\n",
       "</div>"
      ],
      "text/plain": [
       "                                      outputs.answer  \\\n",
       "0  # Tents Catalog\\n\\n## Discover Your Perfect Ou...   \n",
       "1  ### MountainDream Sleeping Bag\\n\\n#### Product...   \n",
       "2  ### TrekReady TrailWalker Hiking Shoes\\n\\n**Ad...   \n",
       "\n",
       "                                     outputs.context  \\\n",
       "0  [{'id': 'cHJvZHVjdHMuY3N2Mg==', 'title': '', '...   \n",
       "1  [{'id': 'cHJvZHVjdHMuY3N2Mg==', 'title': '', '...   \n",
       "2  [{'id': 'cHJvZHVjdHMuY3N2Mg==', 'title': '', '...   \n",
       "\n",
       "                                     inputs.question  \\\n",
       "0  Create the website copy for the tents catalog ...   \n",
       "1  Create the textual assets for the sleeping bag...   \n",
       "2  Draft the website copy for the hiking shoes we...   \n",
       "\n",
       "   outputs.relevance.gpt_relevance  outputs.fluency.gpt_fluency  \\\n",
       "0                              5.0                          5.0   \n",
       "1                              5.0                          5.0   \n",
       "2                              5.0                          5.0   \n",
       "\n",
       "   outputs.coherence.gpt_coherence  outputs.groundedness.gpt_groundedness  \n",
       "0                              5.0                                    1.0  \n",
       "1                              5.0                                    5.0  \n",
       "2                              5.0                                    5.0  "
      ]
     },
     "execution_count": 12,
     "metadata": {},
     "output_type": "execute_result"
    }
   ],
   "source": [
    "# Showing results\n",
    "eval_result = pd.DataFrame(result_eval[\"rows\"])\n",
    "eval_result.head()"
   ]
  },
  {
   "cell_type": "code",
   "execution_count": 13,
   "metadata": {},
   "outputs": [],
   "source": [
    "#save evaluation results to a JSONL file\n",
    "eval_result.to_json('eval_result.jsonl', orient='records', lines=True)"
   ]
  }
 ],
 "metadata": {
  "kernelspec": {
   "display_name": "Python 3",
   "language": "python",
   "name": "python3"
  },
  "language_info": {
   "codemirror_mode": {
    "name": "ipython",
    "version": 3
   },
   "file_extension": ".py",
   "mimetype": "text/x-python",
   "name": "python",
   "nbconvert_exporter": "python",
   "pygments_lexer": "ipython3",
   "version": "3.11.9"
  }
 },
 "nbformat": 4,
 "nbformat_minor": 2
}
